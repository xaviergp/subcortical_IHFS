{
 "cells": [
  {
   "cell_type": "code",
   "execution_count": null,
   "metadata": {},
   "outputs": [],
   "source": [
    "#(0, 0, 'CIFTI_STRUCTURE_CORTEX_LEFT')\n",
    "#(1, 29696, 'CIFTI_STRUCTURE_CORTEX_RIGHT')\n",
    "#(2, 59412, 'CIFTI_STRUCTURE_ACCUMBENS_LEFT')\n",
    "#(3, 59547, 'CIFTI_STRUCTURE_ACCUMBENS_RIGHT')\n",
    "#(4, 59687, 'CIFTI_STRUCTURE_AMYGDALA_LEFT')\n",
    "#(5, 60002, 'CIFTI_STRUCTURE_AMYGDALA_RIGHT')\n",
    "#(6, 60334, 'CIFTI_STRUCTURE_BRAIN_STEM')\n",
    "#(7, 63806, 'CIFTI_STRUCTURE_CAUDATE_LEFT')\n",
    "#(8, 64534, 'CIFTI_STRUCTURE_CAUDATE_RIGHT')\n",
    "#(9, 65289, 'CIFTI_STRUCTURE_CEREBELLUM_LEFT')\n",
    "#(10, 73998, 'CIFTI_STRUCTURE_CEREBELLUM_RIGHT')\n",
    "#(11, 83142, 'CIFTI_STRUCTURE_DIENCEPHALON_VENTRAL_LEFT')\n",
    "#(12, 83848, 'CIFTI_STRUCTURE_DIENCEPHALON_VENTRAL_RIGHT')\n",
    "#(13, 84560, 'CIFTI_STRUCTURE_HIPPOCAMPUS_LEFT')\n",
    "#(14, 85324, 'CIFTI_STRUCTURE_HIPPOCAMPUS_RIGHT')\n",
    "#(15, 86119, 'CIFTI_STRUCTURE_PALLIDUM_LEFT')\n",
    "#(16, 86416, 'CIFTI_STRUCTURE_PALLIDUM_RIGHT')\n",
    "#(17, 86676, 'CIFTI_STRUCTURE_PUTAMEN_LEFT')\n",
    "#(18, 87736, 'CIFTI_STRUCTURE_PUTAMEN_RIGHT')\n",
    "#(19, 88746, 'CIFTI_STRUCTURE_THALAMUS_LEFT')\n",
    "#(20, 90034, 'CIFTI_STRUCTURE_THALAMUS_RIGHT')"
   ]
  },
  {
   "cell_type": "code",
   "execution_count": 1,
   "metadata": {},
   "outputs": [
    {
     "name": "stdout",
     "output_type": "stream",
     "text": [
      "/mnt/c/Users/xavie/Dropbox (MIT)/MIT/_ACTIVE_PROJECTS/homotopy/projecting_to_cerebralcortex\n"
     ]
    }
   ],
   "source": [
    "cd /mnt/c/Users/xavie/Dropbox\\ \\(MIT\\)/MIT/_ACTIVE_PROJECTS/homotopy/projecting_to_cerebralcortex"
   ]
  },
  {
   "cell_type": "code",
   "execution_count": 2,
   "metadata": {},
   "outputs": [
    {
     "name": "stderr",
     "output_type": "stream",
     "text": [
      "/usr/lib/python3.5/importlib/_bootstrap.py:222: RuntimeWarning: numpy.dtype size changed, may indicate binary incompatibility. Expected 96, got 88\n",
      "  return f(*args, **kwds)\n",
      "/usr/lib/python3.5/importlib/_bootstrap.py:222: RuntimeWarning: numpy.ufunc size changed, may indicate binary incompatibility. Expected 216, got 192\n",
      "  return f(*args, **kwds)\n",
      "/usr/lib/python3.5/importlib/_bootstrap.py:222: RuntimeWarning: numpy.ufunc size changed, may indicate binary incompatibility. Expected 192 from C header, got 216 from PyObject\n",
      "  return f(*args, **kwds)\n"
     ]
    }
   ],
   "source": [
    "import os, glob, nibabel as nib, subprocess, numpy as np, matplotlib.pyplot as plt, pandas as pd, matplotlib as mpl, nilearn\n",
    "import matplotlib.cm as cm, seaborn as sns, matplotlib\n",
    "from nilearn import plotting\n",
    "import subprocess, numpy as np, nibabel as nib\n",
    "from sklearn.metrics import pairwise_distances\n",
    "from PIL import Image\n",
    "from sklearn.cluster import KMeans, SpectralClustering\n",
    "from sklearn.preprocessing import Normalizer, StandardScaler\n",
    "from sklearn import metrics\n",
    "import numpy as np"
   ]
  },
  {
   "cell_type": "code",
   "execution_count": 45,
   "metadata": {},
   "outputs": [
    {
     "name": "stderr",
     "output_type": "stream",
     "text": [
      "/usr/local/lib/python3.5/dist-packages/numpy/lib/type_check.py:546: DeprecationWarning: np.asscalar(a) is deprecated since NumPy v1.16, use a.item() instead\n",
      "  'a.item() instead', DeprecationWarning, stacklevel=1)\n",
      "/home/xavierguell/.local/lib/python3.5/site-packages/nibabel/nifti1.py:582: DeprecationWarning: The binary mode of fromstring is deprecated, as it behaves surprisingly on unicode inputs. Use frombuffer instead\n",
      "  ext_def = np.fromstring(ext_def, dtype=np.int32)\n"
     ]
    }
   ],
   "source": [
    "dcon = nib.load('/mnt/c/Users/xavie/Desktop/HCP_S1200_1003_rfMRI_MSMAll_groupPCA_d4500ROW_zcorr.dconn.nii').get_data()\n",
    "caudategradients = nib.load('result_caudatebilateral.dscalar.nii').get_data()\n",
    "cerebellumgradients = nib.load('result_fromcerebellumtocerebellum.dscalar.nii').get_data()\n",
    "lenticulargradients = nib.load('result_pallidumandputamen.dscalar.nii').get_data()\n",
    "thalamusgradients = nib.load('result_thalamus_bilateral.dscalar.nii').get_data()\n",
    "cerebralcortexgradients = nib.load('result_fromcortextocortex_gradients_moregradients.dscalar.nii').get_data()\n",
    "\n",
    "dcon_thalamus = dcon[88746:, :].copy()\n",
    "thalamus_grad1 = thalamusgradients[0,0,0,0,0,:].copy()\n",
    "thalamus_grad2 = thalamusgradients[0,0,0,0,1,:].copy()\n",
    "\n",
    "dcon_lenticular = dcon[86119:88746, :].copy()\n",
    "lenticular_grad1 = lenticulargradients[0,0,0,0,0,:].copy()\n",
    "lenticular_grad2 = lenticulargradients[0,0,0,0,1,:].copy()\n",
    "\n",
    "dcon_cerebellum = dcon[65289:83142, :].copy()\n",
    "cerebellum_grad1 = cerebellumgradients[0,0,0,0,0,:].copy()\n",
    "cerebellum_grad2 = cerebellumgradients[0,0,0,0,1,:].copy()\n",
    "cerebellum_grad3 = cerebellumgradients[0,0,0,0,2,:].copy()\n",
    "\n",
    "dcon_caudate = dcon[63806:65289, :].copy()\n",
    "caudate_grad1 = caudategradients[0,0,0,0,0,:].copy()\n",
    "caudate_grad2 = caudategradients[0,0,0,0,1,:].copy()"
   ]
  },
  {
   "cell_type": "code",
   "execution_count": 74,
   "metadata": {},
   "outputs": [
    {
     "name": "stderr",
     "output_type": "stream",
     "text": [
      "/usr/local/lib/python3.5/dist-packages/numpy/lib/type_check.py:546: DeprecationWarning: np.asscalar(a) is deprecated since NumPy v1.16, use a.item() instead\n",
      "  'a.item() instead', DeprecationWarning, stacklevel=1)\n",
      "/home/xavierguell/.local/lib/python3.5/site-packages/nibabel/nifti1.py:582: DeprecationWarning: The binary mode of fromstring is deprecated, as it behaves surprisingly on unicode inputs. Use frombuffer instead\n",
      "  ext_def = np.fromstring(ext_def, dtype=np.int32)\n"
     ]
    },
    {
     "name": "stdout",
     "output_type": "stream",
     "text": [
      "(0, 0, 'CIFTI_STRUCTURE_CORTEX_LEFT')\n",
      "(1, 29696, 'CIFTI_STRUCTURE_CORTEX_RIGHT')\n"
     ]
    }
   ],
   "source": [
    "gradient_to_examine=caudate_grad2\n",
    "dcon_to_examine=dcon_caudate\n",
    "dict_temp = {}\n",
    "i=0\n",
    "for x in np.arange(len(gradient_to_examine)):\n",
    "    dict_temp[i] = np.ndarray.flatten(dcon_to_examine[x]) * gradient_to_examine[x]\n",
    "    i=i+1\n",
    "    \n",
    "weighted_conn = np.zeros((91282,))\n",
    "for x in np.arange(len(gradient_to_examine)):\n",
    "    weighted_conn = weighted_conn + np.array(dict_temp[x])\n",
    "weighted_conn = weighted_conn[:59412] # to exclude everything except cerebral cortex\n",
    "weighted_conn.shape = (59412,1)\n",
    "\n",
    "#generate dscalar file\n",
    "emb = weighted_conn\n",
    "merging1 = np.append(emb, emb, axis=1)\n",
    "merging2 = np.append(merging1, merging1, axis=1)\n",
    "emb = np.append(merging2, merging2, axis=1)\n",
    "tmp = nib.load('template_cerebralcortex_merge8.dscalar.nii')\n",
    "tmp_cifti = nib.cifti2.load('template_cerebralcortex_merge8.dscalar.nii')\n",
    "data = tmp_cifti.get_data() * 0\n",
    "mim = tmp.header.matrix[1]\n",
    "for idx, bm in enumerate(mim.brain_models):\n",
    "    print ((idx, bm.index_offset, bm.brain_structure))\n",
    "img = nib.cifti2.Cifti2Image(emb.T, nib.cifti2.Cifti2Header(tmp.header.matrix))\n",
    "img.to_filename('caudate_grad2_ProjectedToCerebralCortex.dscalar.nii')"
   ]
  },
  {
   "cell_type": "code",
   "execution_count": 78,
   "metadata": {},
   "outputs": [
    {
     "name": "stderr",
     "output_type": "stream",
     "text": [
      "/usr/local/lib/python3.5/dist-packages/numpy/lib/type_check.py:546: DeprecationWarning: np.asscalar(a) is deprecated since NumPy v1.16, use a.item() instead\n",
      "  'a.item() instead', DeprecationWarning, stacklevel=1)\n",
      "/home/xavierguell/.local/lib/python3.5/site-packages/nibabel/nifti1.py:582: DeprecationWarning: The binary mode of fromstring is deprecated, as it behaves surprisingly on unicode inputs. Use frombuffer instead\n",
      "  ext_def = np.fromstring(ext_def, dtype=np.int32)\n"
     ]
    },
    {
     "name": "stdout",
     "output_type": "stream",
     "text": [
      "(0, 0, 'CIFTI_STRUCTURE_CORTEX_LEFT')\n",
      "(1, 29696, 'CIFTI_STRUCTURE_CORTEX_RIGHT')\n"
     ]
    }
   ],
   "source": [
    "gradient_to_examine=cerebellum_grad3\n",
    "dcon_to_examine=dcon_cerebellum\n",
    "dict_temp = {}\n",
    "i=0\n",
    "for x in np.arange(len(gradient_to_examine)):\n",
    "    dict_temp[i] = np.ndarray.flatten(dcon_to_examine[x]) * gradient_to_examine[x]\n",
    "    i=i+1\n",
    "    \n",
    "weighted_conn = np.zeros((91282,))\n",
    "for x in np.arange(len(gradient_to_examine)):\n",
    "    weighted_conn = weighted_conn + np.array(dict_temp[x])\n",
    "weighted_conn = weighted_conn[:59412] # to exclude everything except cerebral cortex\n",
    "weighted_conn.shape = (59412,1)\n",
    "\n",
    "#generate dscalar file\n",
    "emb = weighted_conn\n",
    "merging1 = np.append(emb, emb, axis=1)\n",
    "merging2 = np.append(merging1, merging1, axis=1)\n",
    "emb = np.append(merging2, merging2, axis=1)\n",
    "tmp = nib.load('template_cerebralcortex_merge8.dscalar.nii')\n",
    "tmp_cifti = nib.cifti2.load('template_cerebralcortex_merge8.dscalar.nii')\n",
    "data = tmp_cifti.get_data() * 0\n",
    "mim = tmp.header.matrix[1]\n",
    "for idx, bm in enumerate(mim.brain_models):\n",
    "    print ((idx, bm.index_offset, bm.brain_structure))\n",
    "img = nib.cifti2.Cifti2Image(emb.T, nib.cifti2.Cifti2Header(tmp.header.matrix))\n",
    "img.to_filename('cerebellum_grad3_ProjectedToCerebralCortex.dscalar.nii')"
   ]
  },
  {
   "cell_type": "code",
   "execution_count": 79,
   "metadata": {},
   "outputs": [
    {
     "name": "stderr",
     "output_type": "stream",
     "text": [
      "/usr/local/lib/python3.5/dist-packages/numpy/lib/type_check.py:546: DeprecationWarning: np.asscalar(a) is deprecated since NumPy v1.16, use a.item() instead\n",
      "  'a.item() instead', DeprecationWarning, stacklevel=1)\n",
      "/home/xavierguell/.local/lib/python3.5/site-packages/nibabel/nifti1.py:582: DeprecationWarning: The binary mode of fromstring is deprecated, as it behaves surprisingly on unicode inputs. Use frombuffer instead\n",
      "  ext_def = np.fromstring(ext_def, dtype=np.int32)\n"
     ]
    },
    {
     "name": "stdout",
     "output_type": "stream",
     "text": [
      "(0, 0, 'CIFTI_STRUCTURE_CORTEX_LEFT')\n",
      "(1, 29696, 'CIFTI_STRUCTURE_CORTEX_RIGHT')\n"
     ]
    }
   ],
   "source": [
    "gradient_to_examine=thalamus_grad1\n",
    "dcon_to_examine=dcon_thalamus\n",
    "dict_temp = {}\n",
    "i=0\n",
    "for x in np.arange(len(gradient_to_examine)):\n",
    "    dict_temp[i] = np.ndarray.flatten(dcon_to_examine[x]) * gradient_to_examine[x]\n",
    "    i=i+1\n",
    "    \n",
    "weighted_conn = np.zeros((91282,))\n",
    "for x in np.arange(len(gradient_to_examine)):\n",
    "    weighted_conn = weighted_conn + np.array(dict_temp[x])\n",
    "weighted_conn = weighted_conn[:59412] # to exclude everything except cerebral cortex\n",
    "weighted_conn.shape = (59412,1)\n",
    "\n",
    "#generate dscalar file\n",
    "emb = weighted_conn\n",
    "merging1 = np.append(emb, emb, axis=1)\n",
    "merging2 = np.append(merging1, merging1, axis=1)\n",
    "emb = np.append(merging2, merging2, axis=1)\n",
    "tmp = nib.load('template_cerebralcortex_merge8.dscalar.nii')\n",
    "tmp_cifti = nib.cifti2.load('template_cerebralcortex_merge8.dscalar.nii')\n",
    "data = tmp_cifti.get_data() * 0\n",
    "mim = tmp.header.matrix[1]\n",
    "for idx, bm in enumerate(mim.brain_models):\n",
    "    print ((idx, bm.index_offset, bm.brain_structure))\n",
    "img = nib.cifti2.Cifti2Image(emb.T, nib.cifti2.Cifti2Header(tmp.header.matrix))\n",
    "img.to_filename('thalamus_grad1_ProjectedToCerebralCortex.dscalar.nii')"
   ]
  },
  {
   "cell_type": "code",
   "execution_count": 80,
   "metadata": {},
   "outputs": [
    {
     "name": "stderr",
     "output_type": "stream",
     "text": [
      "/usr/local/lib/python3.5/dist-packages/numpy/lib/type_check.py:546: DeprecationWarning: np.asscalar(a) is deprecated since NumPy v1.16, use a.item() instead\n",
      "  'a.item() instead', DeprecationWarning, stacklevel=1)\n",
      "/home/xavierguell/.local/lib/python3.5/site-packages/nibabel/nifti1.py:582: DeprecationWarning: The binary mode of fromstring is deprecated, as it behaves surprisingly on unicode inputs. Use frombuffer instead\n",
      "  ext_def = np.fromstring(ext_def, dtype=np.int32)\n"
     ]
    },
    {
     "name": "stdout",
     "output_type": "stream",
     "text": [
      "(0, 0, 'CIFTI_STRUCTURE_CORTEX_LEFT')\n",
      "(1, 29696, 'CIFTI_STRUCTURE_CORTEX_RIGHT')\n"
     ]
    }
   ],
   "source": [
    "gradient_to_examine=lenticular_grad1\n",
    "dcon_to_examine=dcon_lenticular\n",
    "dict_temp = {}\n",
    "i=0\n",
    "for x in np.arange(len(gradient_to_examine)):\n",
    "    dict_temp[i] = np.ndarray.flatten(dcon_to_examine[x]) * gradient_to_examine[x]\n",
    "    i=i+1\n",
    "    \n",
    "weighted_conn = np.zeros((91282,))\n",
    "for x in np.arange(len(gradient_to_examine)):\n",
    "    weighted_conn = weighted_conn + np.array(dict_temp[x])\n",
    "weighted_conn = weighted_conn[:59412] # to exclude everything except cerebral cortex\n",
    "weighted_conn.shape = (59412,1)\n",
    "\n",
    "#generate dscalar file\n",
    "emb = weighted_conn\n",
    "merging1 = np.append(emb, emb, axis=1)\n",
    "merging2 = np.append(merging1, merging1, axis=1)\n",
    "emb = np.append(merging2, merging2, axis=1)\n",
    "tmp = nib.load('template_cerebralcortex_merge8.dscalar.nii')\n",
    "tmp_cifti = nib.cifti2.load('template_cerebralcortex_merge8.dscalar.nii')\n",
    "data = tmp_cifti.get_data() * 0\n",
    "mim = tmp.header.matrix[1]\n",
    "for idx, bm in enumerate(mim.brain_models):\n",
    "    print ((idx, bm.index_offset, bm.brain_structure))\n",
    "img = nib.cifti2.Cifti2Image(emb.T, nib.cifti2.Cifti2Header(tmp.header.matrix))\n",
    "img.to_filename('lenticular_grad1_ProjectedToCerebralCortex.dscalar.nii')"
   ]
  },
  {
   "cell_type": "code",
   "execution_count": 82,
   "metadata": {},
   "outputs": [],
   "source": [
    "## the same with absolute values:"
   ]
  },
  {
   "cell_type": "code",
   "execution_count": 83,
   "metadata": {},
   "outputs": [
    {
     "name": "stderr",
     "output_type": "stream",
     "text": [
      "/usr/local/lib/python3.5/dist-packages/numpy/lib/type_check.py:546: DeprecationWarning: np.asscalar(a) is deprecated since NumPy v1.16, use a.item() instead\n",
      "  'a.item() instead', DeprecationWarning, stacklevel=1)\n",
      "/home/xavierguell/.local/lib/python3.5/site-packages/nibabel/nifti1.py:582: DeprecationWarning: The binary mode of fromstring is deprecated, as it behaves surprisingly on unicode inputs. Use frombuffer instead\n",
      "  ext_def = np.fromstring(ext_def, dtype=np.int32)\n"
     ]
    },
    {
     "name": "stdout",
     "output_type": "stream",
     "text": [
      "(0, 0, 'CIFTI_STRUCTURE_CORTEX_LEFT')\n",
      "(1, 29696, 'CIFTI_STRUCTURE_CORTEX_RIGHT')\n"
     ]
    }
   ],
   "source": [
    "gradient_to_examine=np.absolute(caudate_grad2)\n",
    "dcon_to_examine=dcon_caudate\n",
    "dict_temp = {}\n",
    "i=0\n",
    "for x in np.arange(len(gradient_to_examine)):\n",
    "    dict_temp[i] = np.ndarray.flatten(dcon_to_examine[x]) * gradient_to_examine[x]\n",
    "    i=i+1\n",
    "    \n",
    "weighted_conn = np.zeros((91282,))\n",
    "for x in np.arange(len(gradient_to_examine)):\n",
    "    weighted_conn = weighted_conn + np.array(dict_temp[x])\n",
    "weighted_conn = weighted_conn[:59412] # to exclude everything except cerebral cortex\n",
    "weighted_conn.shape = (59412,1)\n",
    "\n",
    "#generate dscalar file\n",
    "emb = weighted_conn\n",
    "merging1 = np.append(emb, emb, axis=1)\n",
    "merging2 = np.append(merging1, merging1, axis=1)\n",
    "emb = np.append(merging2, merging2, axis=1)\n",
    "tmp = nib.load('template_cerebralcortex_merge8.dscalar.nii')\n",
    "tmp_cifti = nib.cifti2.load('template_cerebralcortex_merge8.dscalar.nii')\n",
    "data = tmp_cifti.get_data() * 0\n",
    "mim = tmp.header.matrix[1]\n",
    "for idx, bm in enumerate(mim.brain_models):\n",
    "    print ((idx, bm.index_offset, bm.brain_structure))\n",
    "img = nib.cifti2.Cifti2Image(emb.T, nib.cifti2.Cifti2Header(tmp.header.matrix))\n",
    "img.to_filename('caudate_grad2_ProjectedToCerebralCortex_AbsoluteValues.dscalar.nii')"
   ]
  },
  {
   "cell_type": "code",
   "execution_count": 81,
   "metadata": {},
   "outputs": [
    {
     "name": "stderr",
     "output_type": "stream",
     "text": [
      "/usr/local/lib/python3.5/dist-packages/numpy/lib/type_check.py:546: DeprecationWarning: np.asscalar(a) is deprecated since NumPy v1.16, use a.item() instead\n",
      "  'a.item() instead', DeprecationWarning, stacklevel=1)\n",
      "/home/xavierguell/.local/lib/python3.5/site-packages/nibabel/nifti1.py:582: DeprecationWarning: The binary mode of fromstring is deprecated, as it behaves surprisingly on unicode inputs. Use frombuffer instead\n",
      "  ext_def = np.fromstring(ext_def, dtype=np.int32)\n"
     ]
    },
    {
     "name": "stdout",
     "output_type": "stream",
     "text": [
      "(0, 0, 'CIFTI_STRUCTURE_CORTEX_LEFT')\n",
      "(1, 29696, 'CIFTI_STRUCTURE_CORTEX_RIGHT')\n"
     ]
    }
   ],
   "source": [
    "gradient_to_examine=np.absolute(cerebellum_grad3)\n",
    "dcon_to_examine=dcon_cerebellum\n",
    "dict_temp = {}\n",
    "i=0\n",
    "for x in np.arange(len(gradient_to_examine)):\n",
    "    dict_temp[i] = np.ndarray.flatten(dcon_to_examine[x]) * gradient_to_examine[x]\n",
    "    i=i+1\n",
    "    \n",
    "weighted_conn = np.zeros((91282,))\n",
    "for x in np.arange(len(gradient_to_examine)):\n",
    "    weighted_conn = weighted_conn + np.array(dict_temp[x])\n",
    "weighted_conn = weighted_conn[:59412] # to exclude everything except cerebral cortex\n",
    "weighted_conn.shape = (59412,1)\n",
    "\n",
    "#generate dscalar file\n",
    "emb = weighted_conn\n",
    "merging1 = np.append(emb, emb, axis=1)\n",
    "merging2 = np.append(merging1, merging1, axis=1)\n",
    "emb = np.append(merging2, merging2, axis=1)\n",
    "tmp = nib.load('template_cerebralcortex_merge8.dscalar.nii')\n",
    "tmp_cifti = nib.cifti2.load('template_cerebralcortex_merge8.dscalar.nii')\n",
    "data = tmp_cifti.get_data() * 0\n",
    "mim = tmp.header.matrix[1]\n",
    "for idx, bm in enumerate(mim.brain_models):\n",
    "    print ((idx, bm.index_offset, bm.brain_structure))\n",
    "img = nib.cifti2.Cifti2Image(emb.T, nib.cifti2.Cifti2Header(tmp.header.matrix))\n",
    "img.to_filename('cerebellum_grad3_ProjectedToCerebralCortex_AbsoluteValues.dscalar.nii')"
   ]
  },
  {
   "cell_type": "code",
   "execution_count": 84,
   "metadata": {},
   "outputs": [
    {
     "name": "stderr",
     "output_type": "stream",
     "text": [
      "/usr/local/lib/python3.5/dist-packages/numpy/lib/type_check.py:546: DeprecationWarning: np.asscalar(a) is deprecated since NumPy v1.16, use a.item() instead\n",
      "  'a.item() instead', DeprecationWarning, stacklevel=1)\n",
      "/home/xavierguell/.local/lib/python3.5/site-packages/nibabel/nifti1.py:582: DeprecationWarning: The binary mode of fromstring is deprecated, as it behaves surprisingly on unicode inputs. Use frombuffer instead\n",
      "  ext_def = np.fromstring(ext_def, dtype=np.int32)\n"
     ]
    },
    {
     "name": "stdout",
     "output_type": "stream",
     "text": [
      "(0, 0, 'CIFTI_STRUCTURE_CORTEX_LEFT')\n",
      "(1, 29696, 'CIFTI_STRUCTURE_CORTEX_RIGHT')\n"
     ]
    }
   ],
   "source": [
    "gradient_to_examine=np.absolute(thalamus_grad1)\n",
    "dcon_to_examine=dcon_thalamus\n",
    "dict_temp = {}\n",
    "i=0\n",
    "for x in np.arange(len(gradient_to_examine)):\n",
    "    dict_temp[i] = np.ndarray.flatten(dcon_to_examine[x]) * gradient_to_examine[x]\n",
    "    i=i+1\n",
    "    \n",
    "weighted_conn = np.zeros((91282,))\n",
    "for x in np.arange(len(gradient_to_examine)):\n",
    "    weighted_conn = weighted_conn + np.array(dict_temp[x])\n",
    "weighted_conn = weighted_conn[:59412] # to exclude everything except cerebral cortex\n",
    "weighted_conn.shape = (59412,1)\n",
    "\n",
    "#generate dscalar file\n",
    "emb = weighted_conn\n",
    "merging1 = np.append(emb, emb, axis=1)\n",
    "merging2 = np.append(merging1, merging1, axis=1)\n",
    "emb = np.append(merging2, merging2, axis=1)\n",
    "tmp = nib.load('template_cerebralcortex_merge8.dscalar.nii')\n",
    "tmp_cifti = nib.cifti2.load('template_cerebralcortex_merge8.dscalar.nii')\n",
    "data = tmp_cifti.get_data() * 0\n",
    "mim = tmp.header.matrix[1]\n",
    "for idx, bm in enumerate(mim.brain_models):\n",
    "    print ((idx, bm.index_offset, bm.brain_structure))\n",
    "img = nib.cifti2.Cifti2Image(emb.T, nib.cifti2.Cifti2Header(tmp.header.matrix))\n",
    "img.to_filename('thalamus_grad1_ProjectedToCerebralCortex_AbsoluteValues.dscalar.nii')"
   ]
  },
  {
   "cell_type": "code",
   "execution_count": 85,
   "metadata": {},
   "outputs": [
    {
     "name": "stderr",
     "output_type": "stream",
     "text": [
      "/usr/local/lib/python3.5/dist-packages/numpy/lib/type_check.py:546: DeprecationWarning: np.asscalar(a) is deprecated since NumPy v1.16, use a.item() instead\n",
      "  'a.item() instead', DeprecationWarning, stacklevel=1)\n",
      "/home/xavierguell/.local/lib/python3.5/site-packages/nibabel/nifti1.py:582: DeprecationWarning: The binary mode of fromstring is deprecated, as it behaves surprisingly on unicode inputs. Use frombuffer instead\n",
      "  ext_def = np.fromstring(ext_def, dtype=np.int32)\n"
     ]
    },
    {
     "name": "stdout",
     "output_type": "stream",
     "text": [
      "(0, 0, 'CIFTI_STRUCTURE_CORTEX_LEFT')\n",
      "(1, 29696, 'CIFTI_STRUCTURE_CORTEX_RIGHT')\n"
     ]
    }
   ],
   "source": [
    "gradient_to_examine=np.absolute(lenticular_grad1)\n",
    "dcon_to_examine=dcon_lenticular\n",
    "dict_temp = {}\n",
    "i=0\n",
    "for x in np.arange(len(gradient_to_examine)):\n",
    "    dict_temp[i] = np.ndarray.flatten(dcon_to_examine[x]) * gradient_to_examine[x]\n",
    "    i=i+1\n",
    "    \n",
    "weighted_conn = np.zeros((91282,))\n",
    "for x in np.arange(len(gradient_to_examine)):\n",
    "    weighted_conn = weighted_conn + np.array(dict_temp[x])\n",
    "weighted_conn = weighted_conn[:59412] # to exclude everything except cerebral cortex\n",
    "weighted_conn.shape = (59412,1)\n",
    "\n",
    "#generate dscalar file\n",
    "emb = weighted_conn\n",
    "merging1 = np.append(emb, emb, axis=1)\n",
    "merging2 = np.append(merging1, merging1, axis=1)\n",
    "emb = np.append(merging2, merging2, axis=1)\n",
    "tmp = nib.load('template_cerebralcortex_merge8.dscalar.nii')\n",
    "tmp_cifti = nib.cifti2.load('template_cerebralcortex_merge8.dscalar.nii')\n",
    "data = tmp_cifti.get_data() * 0\n",
    "mim = tmp.header.matrix[1]\n",
    "for idx, bm in enumerate(mim.brain_models):\n",
    "    print ((idx, bm.index_offset, bm.brain_structure))\n",
    "img = nib.cifti2.Cifti2Image(emb.T, nib.cifti2.Cifti2Header(tmp.header.matrix))\n",
    "img.to_filename('lenticular_grad1_ProjectedToCerebralCortex_AbsoluteValues.dscalar.nii')"
   ]
  }
 ],
 "metadata": {
  "kernelspec": {
   "display_name": "Python 3",
   "language": "python",
   "name": "python3"
  },
  "language_info": {
   "codemirror_mode": {
    "name": "ipython",
    "version": 3
   },
   "file_extension": ".py",
   "mimetype": "text/x-python",
   "name": "python",
   "nbconvert_exporter": "python",
   "pygments_lexer": "ipython3",
   "version": "3.5.2"
  }
 },
 "nbformat": 4,
 "nbformat_minor": 2
}
